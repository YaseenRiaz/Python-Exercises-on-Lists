{
 "cells": [
  {
   "cell_type": "code",
   "execution_count": 2,
   "metadata": {},
   "outputs": [
    {
     "name": "stdout",
     "output_type": "stream",
     "text": [
      "taseen\n",
      "mumtaz\n",
      "faizan\n",
      "yaseen\n"
     ]
    }
   ],
   "source": [
    "name= ['taseen', 'mumtaz', 'faizan', 'yaseen']\n",
    "print(name[0])\n",
    "print(name[1])\n",
    "print(name[2])\n",
    "print(name[3])"
   ]
  },
  {
   "cell_type": "code",
   "execution_count": 5,
   "metadata": {},
   "outputs": [
    {
     "name": "stdout",
     "output_type": "stream",
     "text": [
      "Assalamualaikum, Taseen! How are you?\n",
      "Assalamualaikum, Mumtaz! How are you?\n",
      "Assalamualaikum, Faizan! How are you?\n",
      "Assalamualaikum, Yaseen! How are you?\n"
     ]
    }
   ],
   "source": [
    "name= ['Taseen', 'Mumtaz', 'Faizan', 'Yaseen']\n",
    "print(f\"Assalamualaikum, {name[0]}! How are you?\")\n",
    "print(f\"Assalamualaikum, {name[1]}! How are you?\")\n",
    "print(f\"Assalamualaikum, {name[2]}! How are you?\")\n",
    "print(f\"Assalamualaikum, {name[3]}! How are you?\")"
   ]
  },
  {
   "cell_type": "code",
   "execution_count": 7,
   "metadata": {},
   "outputs": [
    {
     "name": "stdout",
     "output_type": "stream",
     "text": [
      "I would like to own a Ninja H2.\n",
      "I would like to own a Mercedes.\n",
      "I would like to own a Fortuner.\n",
      "I would like to own a Audi.\n"
     ]
    }
   ],
   "source": [
    "name= ['Ninja H2', 'Mercedes', 'Fortuner', 'Audi']\n",
    "print(f\"I would like to own a {name[0]}.\")\n",
    "print(f\"I would like to own a {name[1]}.\")\n",
    "print(f\"I would like to own a {name[2]}.\")\n",
    "print(f\"I would like to own a {name[3]}.\")"
   ]
  },
  {
   "cell_type": "code",
   "execution_count": 12,
   "metadata": {},
   "outputs": [
    {
     "name": "stdout",
     "output_type": "stream",
     "text": [
      "Dear Taseen, I’m hosting a dinner party and would love for you to join us.\n",
      "Dear Mumtaz, I’m hosting a dinner party and would love for you to join us.\n",
      "Dear Faizan, I’m hosting a dinner party and would love for you to join us.\n",
      "Dear Yaseen, I’m hosting a dinner party and would love for you to join us.\n"
     ]
    }
   ],
   "source": [
    "name= ['Taseen', 'Mumtaz', 'Faizan', 'Yaseen']\n",
    "print(f\"Dear {name[0]}, I’m hosting a dinner party and would love for you to join us.\")\n",
    "print(f\"Dear {name[1]}, I’m hosting a dinner party and would love for you to join us.\")\n",
    "print(f\"Dear {name[2]}, I’m hosting a dinner party and would love for you to join us.\")\n",
    "print(f\"Dear {name[3]}, I’m hosting a dinner party and would love for you to join us.\")"
   ]
  },
  {
   "cell_type": "code",
   "execution_count": 14,
   "metadata": {},
   "outputs": [
    {
     "name": "stdout",
     "output_type": "stream",
     "text": [
      "Dear Taseen, I’m hosting a dinner party and would love for you to join us.\n",
      "Dear Mumtaz, I’m hosting a dinner party and would love for you to join us.\n",
      "Dear Faizan, I’m hosting a dinner party and would love for you to join us.\n",
      "Dear Yaseen, I’m hosting a dinner party and would love for you to join us.\n",
      "Unfortunately, Mumtaz can't make it to dinner.\n"
     ]
    }
   ],
   "source": [
    "name= ['Taseen', 'Mumtaz', 'Faizan', 'Yaseen']\n",
    "print(f\"Dear {name[0]}, I’m hosting a dinner party and would love for you to join us.\")\n",
    "print(f\"Dear {name[1]}, I’m hosting a dinner party and would love for you to join us.\")\n",
    "print(f\"Dear {name[2]}, I’m hosting a dinner party and would love for you to join us.\")\n",
    "print(f\"Dear {name[3]}, I’m hosting a dinner party and would love for you to join us.\")\n",
    "print(f\"Unfortunately, {name[1]} can't make it to dinner.\")\n",
    "name.remove(\"Mumtaz\") "
   ]
  },
  {
   "cell_type": "code",
   "execution_count": 18,
   "metadata": {},
   "outputs": [
    {
     "name": "stdout",
     "output_type": "stream",
     "text": [
      "Dear Taseen, I’m hosting a dinner party and would love for you to join us.\n",
      "Dear Faizan, I’m hosting a dinner party and would love for you to join us.\n",
      "Dear Yaseen, I’m hosting a dinner party and would love for you to join us.\n"
     ]
    }
   ],
   "source": [
    "name= ['Taseen', 'Mumtaz', 'Faizan', 'Yaseen']\n",
    "name.remove(\"Mumtaz\") \n",
    "print(f\"Dear {name[0]}, I’m hosting a dinner party and would love for you to join us.\")\n",
    "print(f\"Dear {name[1]}, I’m hosting a dinner party and would love for you to join us.\")\n",
    "print(f\"Dear {name[2]}, I’m hosting a dinner party and would love for you to join us.\")"
   ]
  },
  {
   "cell_type": "code",
   "execution_count": 20,
   "metadata": {},
   "outputs": [
    {
     "name": "stdout",
     "output_type": "stream",
     "text": [
      "Good news! We found a bigger dinner table.\n",
      "Dear Mumtaz, I’m hosting a dinner party and would love for you to join us.\n",
      "Dear Taseen, I’m hosting a dinner party and would love for you to join us.\n",
      "Dear Murtaza, I’m hosting a dinner party and would love for you to join us.\n",
      "Dear Faizan, I’m hosting a dinner party and would love for you to join us.\n",
      "Dear Yaseen, I’m hosting a dinner party and would love for you to join us.\n",
      "Dear Shamas, I’m hosting a dinner party and would love for you to join us.\n"
     ]
    }
   ],
   "source": [
    "name= ['Taseen', 'Faizan', 'Yaseen']\n",
    "print(\"Good news! We found a bigger dinner table.\")\n",
    "\n",
    "name.insert(0, 'Mumtaz')\n",
    "name.insert(2, 'Murtaza')\n",
    "name.append('Shamas')\n",
    "for friends in name:\n",
    "    print(f\"Dear {friends}, I’m hosting a dinner party and would love for you to join us.\")"
   ]
  },
  {
   "cell_type": "code",
   "execution_count": 35,
   "metadata": {},
   "outputs": [
    {
     "name": "stdout",
     "output_type": "stream",
     "text": [
      "Sorry, we can only invite two people for dinner.\n",
      "Sorry, Shamas, we can't invite you to dinner.\n",
      "Sorry, Yaseen, we can't invite you to dinner.\n",
      "Sorry, Faizan, we can't invite you to dinner.\n",
      "Sorry, Murtaza, we can't invite you to dinner.\n",
      "Dear Mumtaz, you are still invited to dinner.\n",
      "Dear Taseen, you are still invited to dinner.\n",
      "[]\n"
     ]
    }
   ],
   "source": [
    "name = [\"Mumtaz\", \"Taseen\", \"Murtaza\", \"Faizan\", \"Yaseen\", \"Shamas\"]\n",
    "\n",
    "print(\"Sorry, we can only invite two people for dinner.\")\n",
    "\n",
    "while len(name) > 2:\n",
    "    removed_guest = name.pop()\n",
    "    print(f\"Sorry, {removed_guest}, we can't invite you to dinner.\")\n",
    "\n",
    "for guest in name:\n",
    "    print(f\"Dear {guest}, you are still invited to dinner.\")\n",
    "\n",
    "del name[0]\n",
    "del name[0]\n",
    "\n",
    "print(name)  \n"
   ]
  },
  {
   "cell_type": "code",
   "execution_count": 37,
   "metadata": {},
   "outputs": [
    {
     "name": "stdout",
     "output_type": "stream",
     "text": [
      "['America', 'Paris', 'New York', 'Canada', 'Australia']\n",
      "['America', 'Australia', 'Canada', 'New York', 'Paris']\n",
      "['America', 'Paris', 'New York', 'Canada', 'Australia']\n",
      "['Paris', 'New York', 'Canada', 'Australia', 'America']\n",
      "['America', 'Paris', 'New York', 'Canada', 'Australia']\n",
      "['Australia', 'Canada', 'New York', 'Paris', 'America']\n",
      "['America', 'Paris', 'New York', 'Canada', 'Australia']\n",
      "['America', 'Australia', 'Canada', 'New York', 'Paris']\n",
      "['Paris', 'New York', 'Canada', 'Australia', 'America']\n"
     ]
    }
   ],
   "source": [
    "places = [\"America\", \"Paris\", \"New York\", \"Canada\", \"Australia\"]\n",
    "\n",
    "print(places)\n",
    "\n",
    "print(sorted(places))\n",
    "\n",
    "print(places)\n",
    "\n",
    "print(sorted(places, reverse=True))\n",
    "\n",
    "print(places)\n",
    "\n",
    "places.reverse()\n",
    "print(places)\n",
    "\n",
    "places.reverse()\n",
    "print(places)\n",
    "\n",
    "places.sort()\n",
    "print(places)\n",
    "\n",
    "places.sort(reverse=True)\n",
    "print(places)"
   ]
  },
  {
   "cell_type": "code",
   "execution_count": 38,
   "metadata": {},
   "outputs": [
    {
     "name": "stdout",
     "output_type": "stream",
     "text": [
      "['Everest', 'K2', 'Kilimanjaro', 'Denali', 'Aconcagua']\n",
      "['Aconcagua', 'Denali', 'Everest', 'K2', 'Kilimanjaro']\n",
      "['Aconcagua', 'Denali', 'Kilimanjaro', 'K2', 'Everest']\n",
      "['Aconcagua', 'Denali', 'Everest', 'K2', 'Kilimanjaro']\n",
      "['Kilimanjaro', 'K2', 'Everest', 'Denali', 'Aconcagua']\n",
      "5\n",
      "['Kilimanjaro', 'K2', 'Everest', 'Denali', 'Aconcagua', 'Mont Blanc']\n",
      "['Kilimanjaro', 'K2', 'Elbrus', 'Everest', 'Denali', 'Aconcagua', 'Mont Blanc']\n",
      "['Kilimanjaro', 'Elbrus', 'Everest', 'Denali', 'Aconcagua', 'Mont Blanc']\n",
      "['Kilimanjaro', 'Elbrus', 'Everest', 'Denali', 'Aconcagua']\n",
      "Mont Blanc\n"
     ]
    }
   ],
   "source": [
    "mountains = [\"Everest\", \"K2\", \"Kilimanjaro\", \"Denali\", \"Aconcagua\"]\n",
    "\n",
    "print(mountains) \n",
    "print(sorted(mountains))  \n",
    "\n",
    "mountains.reverse()       \n",
    "print(mountains)\n",
    "\n",
    "mountains.sort()          \n",
    "print(mountains)\n",
    "\n",
    "mountains.sort(reverse=True)  \n",
    "print(mountains)\n",
    "\n",
    "print(len(mountains))     \n",
    "mountains.append(\"Mont Blanc\")  \n",
    "print(mountains)\n",
    "\n",
    "mountains.insert(2, \"Elbrus\")   \n",
    "print(mountains)\n",
    "\n",
    "mountains.remove(\"K2\")         \n",
    "print(mountains)\n",
    "\n",
    "popped_mountain = mountains.pop()  \n",
    "print(mountains)\n",
    "print(popped_mountain)           \n"
   ]
  },
  {
   "cell_type": "code",
   "execution_count": 40,
   "metadata": {},
   "outputs": [
    {
     "ename": "IndexError",
     "evalue": "list index out of range",
     "output_type": "error",
     "traceback": [
      "\u001b[1;31m---------------------------------------------------------------------------\u001b[0m",
      "\u001b[1;31mIndexError\u001b[0m                                Traceback (most recent call last)",
      "Cell \u001b[1;32mIn[40], line 4\u001b[0m\n\u001b[0;32m      1\u001b[0m rivers \u001b[38;5;241m=\u001b[39m [\u001b[38;5;124m\"\u001b[39m\u001b[38;5;124mSatluj\u001b[39m\u001b[38;5;124m\"\u001b[39m, \u001b[38;5;124m\"\u001b[39m\u001b[38;5;124mChanab\u001b[39m\u001b[38;5;124m\"\u001b[39m, \u001b[38;5;124m\"\u001b[39m\u001b[38;5;124mRavi\u001b[39m\u001b[38;5;124m\"\u001b[39m]\n\u001b[1;32m----> 4\u001b[0m \u001b[38;5;28mprint\u001b[39m(\u001b[43mrivers\u001b[49m\u001b[43m[\u001b[49m\u001b[38;5;241;43m3\u001b[39;49m\u001b[43m]\u001b[49m)  \n",
      "\u001b[1;31mIndexError\u001b[0m: list index out of range"
     ]
    }
   ],
   "source": [
    "rivers = [\"Satluj\", \"Chanab\", \"Ravi\"]\n",
    "\n",
    "\n",
    "print(rivers[3])  \n"
   ]
  },
  {
   "cell_type": "code",
   "execution_count": 41,
   "metadata": {},
   "outputs": [
    {
     "name": "stdout",
     "output_type": "stream",
     "text": [
      "Ravi\n"
     ]
    }
   ],
   "source": [
    "rivers = [\"Satluj\", \"Chanab\", \"Ravi\"]\n",
    "\n",
    "\n",
    "print(rivers[2])  \n"
   ]
  }
 ],
 "metadata": {
  "kernelspec": {
   "display_name": "Python 3",
   "language": "python",
   "name": "python3"
  },
  "language_info": {
   "codemirror_mode": {
    "name": "ipython",
    "version": 3
   },
   "file_extension": ".py",
   "mimetype": "text/x-python",
   "name": "python",
   "nbconvert_exporter": "python",
   "pygments_lexer": "ipython3",
   "version": "3.12.4"
  }
 },
 "nbformat": 4,
 "nbformat_minor": 2
}
